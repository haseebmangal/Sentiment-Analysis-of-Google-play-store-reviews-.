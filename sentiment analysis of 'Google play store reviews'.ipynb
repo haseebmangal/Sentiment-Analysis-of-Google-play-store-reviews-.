{
 "cells": [
  {
   "cell_type": "code",
   "execution_count": 2,
   "id": "e262c29a",
   "metadata": {},
   "outputs": [],
   "source": [
    "import warnings "
   ]
  },
  {
   "cell_type": "code",
   "execution_count": 3,
   "id": "b3da5508",
   "metadata": {},
   "outputs": [],
   "source": [
    "warnings.filterwarnings(\"ignore\")"
   ]
  },
  {
   "cell_type": "code",
   "execution_count": 4,
   "id": "342f0d84",
   "metadata": {},
   "outputs": [],
   "source": [
    "import pandas as pd"
   ]
  },
  {
   "cell_type": "code",
   "execution_count": 5,
   "id": "1197c92e",
   "metadata": {},
   "outputs": [
    {
     "data": {
      "text/html": [
       "<div>\n",
       "<style scoped>\n",
       "    .dataframe tbody tr th:only-of-type {\n",
       "        vertical-align: middle;\n",
       "    }\n",
       "\n",
       "    .dataframe tbody tr th {\n",
       "        vertical-align: top;\n",
       "    }\n",
       "\n",
       "    .dataframe thead th {\n",
       "        text-align: right;\n",
       "    }\n",
       "</style>\n",
       "<table border=\"1\" class=\"dataframe\">\n",
       "  <thead>\n",
       "    <tr style=\"text-align: right;\">\n",
       "      <th></th>\n",
       "      <th>reviewId</th>\n",
       "      <th>userName</th>\n",
       "      <th>userImage</th>\n",
       "      <th>content</th>\n",
       "      <th>score</th>\n",
       "      <th>thumbsUpCount</th>\n",
       "      <th>reviewCreatedVersion</th>\n",
       "      <th>at</th>\n",
       "      <th>replyContent</th>\n",
       "      <th>repliedAt</th>\n",
       "      <th>sortOrder</th>\n",
       "      <th>appId</th>\n",
       "    </tr>\n",
       "  </thead>\n",
       "  <tbody>\n",
       "    <tr>\n",
       "      <th>0</th>\n",
       "      <td>gp:AOqpTOEhZuqSqqWnaKRgv-9ABYdajFUB0WugPGh-SG-...</td>\n",
       "      <td>Eric Tie</td>\n",
       "      <td>https://play-lh.googleusercontent.com/a-/AOh14...</td>\n",
       "      <td>I cannot open the app anymore</td>\n",
       "      <td>1</td>\n",
       "      <td>0</td>\n",
       "      <td>5.4.0.6</td>\n",
       "      <td>2020-10-27 21:24:41</td>\n",
       "      <td>NaN</td>\n",
       "      <td>NaN</td>\n",
       "      <td>newest</td>\n",
       "      <td>com.anydo</td>\n",
       "    </tr>\n",
       "    <tr>\n",
       "      <th>1</th>\n",
       "      <td>gp:AOqpTOH0WP4IQKBZ2LrdNmFy_YmpPCVrV3diEU9KGm3...</td>\n",
       "      <td>john alpha</td>\n",
       "      <td>https://play-lh.googleusercontent.com/a-/AOh14...</td>\n",
       "      <td>I have been begging for a refund from this app...</td>\n",
       "      <td>1</td>\n",
       "      <td>0</td>\n",
       "      <td>NaN</td>\n",
       "      <td>2020-10-27 14:03:28</td>\n",
       "      <td>Please note that from checking our records, yo...</td>\n",
       "      <td>2020-10-27 15:05:52</td>\n",
       "      <td>newest</td>\n",
       "      <td>com.anydo</td>\n",
       "    </tr>\n",
       "    <tr>\n",
       "      <th>2</th>\n",
       "      <td>gp:AOqpTOEMCkJB8Iq1p-r9dPwnSYadA5BkPWTf32Z1azu...</td>\n",
       "      <td>Sudhakar .S</td>\n",
       "      <td>https://play-lh.googleusercontent.com/a-/AOh14...</td>\n",
       "      <td>Very costly for the premium version (approx In...</td>\n",
       "      <td>1</td>\n",
       "      <td>0</td>\n",
       "      <td>NaN</td>\n",
       "      <td>2020-10-27 08:18:40</td>\n",
       "      <td>NaN</td>\n",
       "      <td>NaN</td>\n",
       "      <td>newest</td>\n",
       "      <td>com.anydo</td>\n",
       "    </tr>\n",
       "    <tr>\n",
       "      <th>3</th>\n",
       "      <td>gp:AOqpTOGFrUWuKGycpje8kszj3uwHN6tU_fd4gLVFy9z...</td>\n",
       "      <td>SKGflorida@bellsouth.net DAVID S</td>\n",
       "      <td>https://play-lh.googleusercontent.com/-75aK0WF...</td>\n",
       "      <td>Used to keep me organized, but all the 2020 UP...</td>\n",
       "      <td>1</td>\n",
       "      <td>0</td>\n",
       "      <td>NaN</td>\n",
       "      <td>2020-10-26 13:28:07</td>\n",
       "      <td>What do you find troublesome about the update?...</td>\n",
       "      <td>2020-10-26 14:58:29</td>\n",
       "      <td>newest</td>\n",
       "      <td>com.anydo</td>\n",
       "    </tr>\n",
       "    <tr>\n",
       "      <th>4</th>\n",
       "      <td>gp:AOqpTOHls7DW8wmDFzTkHwxuqFkdNQtKHmO6Pt9jhZE...</td>\n",
       "      <td>Louann Stoker</td>\n",
       "      <td>https://play-lh.googleusercontent.com/-pBcY_Z-...</td>\n",
       "      <td>Dan Birthday Oct 28</td>\n",
       "      <td>1</td>\n",
       "      <td>0</td>\n",
       "      <td>5.6.0.7</td>\n",
       "      <td>2020-10-26 06:10:50</td>\n",
       "      <td>NaN</td>\n",
       "      <td>NaN</td>\n",
       "      <td>newest</td>\n",
       "      <td>com.anydo</td>\n",
       "    </tr>\n",
       "  </tbody>\n",
       "</table>\n",
       "</div>"
      ],
      "text/plain": [
       "                                            reviewId  \\\n",
       "0  gp:AOqpTOEhZuqSqqWnaKRgv-9ABYdajFUB0WugPGh-SG-...   \n",
       "1  gp:AOqpTOH0WP4IQKBZ2LrdNmFy_YmpPCVrV3diEU9KGm3...   \n",
       "2  gp:AOqpTOEMCkJB8Iq1p-r9dPwnSYadA5BkPWTf32Z1azu...   \n",
       "3  gp:AOqpTOGFrUWuKGycpje8kszj3uwHN6tU_fd4gLVFy9z...   \n",
       "4  gp:AOqpTOHls7DW8wmDFzTkHwxuqFkdNQtKHmO6Pt9jhZE...   \n",
       "\n",
       "                           userName  \\\n",
       "0                          Eric Tie   \n",
       "1                        john alpha   \n",
       "2                       Sudhakar .S   \n",
       "3  SKGflorida@bellsouth.net DAVID S   \n",
       "4                     Louann Stoker   \n",
       "\n",
       "                                           userImage  \\\n",
       "0  https://play-lh.googleusercontent.com/a-/AOh14...   \n",
       "1  https://play-lh.googleusercontent.com/a-/AOh14...   \n",
       "2  https://play-lh.googleusercontent.com/a-/AOh14...   \n",
       "3  https://play-lh.googleusercontent.com/-75aK0WF...   \n",
       "4  https://play-lh.googleusercontent.com/-pBcY_Z-...   \n",
       "\n",
       "                                             content  score  thumbsUpCount  \\\n",
       "0                      I cannot open the app anymore      1              0   \n",
       "1  I have been begging for a refund from this app...      1              0   \n",
       "2  Very costly for the premium version (approx In...      1              0   \n",
       "3  Used to keep me organized, but all the 2020 UP...      1              0   \n",
       "4                                Dan Birthday Oct 28      1              0   \n",
       "\n",
       "  reviewCreatedVersion                   at  \\\n",
       "0              5.4.0.6  2020-10-27 21:24:41   \n",
       "1                  NaN  2020-10-27 14:03:28   \n",
       "2                  NaN  2020-10-27 08:18:40   \n",
       "3                  NaN  2020-10-26 13:28:07   \n",
       "4              5.6.0.7  2020-10-26 06:10:50   \n",
       "\n",
       "                                        replyContent            repliedAt  \\\n",
       "0                                                NaN                  NaN   \n",
       "1  Please note that from checking our records, yo...  2020-10-27 15:05:52   \n",
       "2                                                NaN                  NaN   \n",
       "3  What do you find troublesome about the update?...  2020-10-26 14:58:29   \n",
       "4                                                NaN                  NaN   \n",
       "\n",
       "  sortOrder      appId  \n",
       "0    newest  com.anydo  \n",
       "1    newest  com.anydo  \n",
       "2    newest  com.anydo  \n",
       "3    newest  com.anydo  \n",
       "4    newest  com.anydo  "
      ]
     },
     "execution_count": 5,
     "metadata": {},
     "output_type": "execute_result"
    }
   ],
   "source": [
    "reviews_data = pd.read_csv('reviews.csv')\n",
    "reviews_data.head()"
   ]
  },
  {
   "cell_type": "markdown",
   "id": "5fe1a714",
   "metadata": {},
   "source": [
    "### let's drop columns that are not required before data pre-processing ."
   ]
  },
  {
   "cell_type": "code",
   "execution_count": 6,
   "id": "60771fc8",
   "metadata": {},
   "outputs": [
    {
     "data": {
      "text/html": [
       "<div>\n",
       "<style scoped>\n",
       "    .dataframe tbody tr th:only-of-type {\n",
       "        vertical-align: middle;\n",
       "    }\n",
       "\n",
       "    .dataframe tbody tr th {\n",
       "        vertical-align: top;\n",
       "    }\n",
       "\n",
       "    .dataframe thead th {\n",
       "        text-align: right;\n",
       "    }\n",
       "</style>\n",
       "<table border=\"1\" class=\"dataframe\">\n",
       "  <thead>\n",
       "    <tr style=\"text-align: right;\">\n",
       "      <th></th>\n",
       "      <th>content</th>\n",
       "      <th>score</th>\n",
       "    </tr>\n",
       "  </thead>\n",
       "  <tbody>\n",
       "    <tr>\n",
       "      <th>0</th>\n",
       "      <td>I cannot open the app anymore</td>\n",
       "      <td>1</td>\n",
       "    </tr>\n",
       "    <tr>\n",
       "      <th>1</th>\n",
       "      <td>I have been begging for a refund from this app...</td>\n",
       "      <td>1</td>\n",
       "    </tr>\n",
       "    <tr>\n",
       "      <th>2</th>\n",
       "      <td>Very costly for the premium version (approx In...</td>\n",
       "      <td>1</td>\n",
       "    </tr>\n",
       "    <tr>\n",
       "      <th>3</th>\n",
       "      <td>Used to keep me organized, but all the 2020 UP...</td>\n",
       "      <td>1</td>\n",
       "    </tr>\n",
       "    <tr>\n",
       "      <th>4</th>\n",
       "      <td>Dan Birthday Oct 28</td>\n",
       "      <td>1</td>\n",
       "    </tr>\n",
       "  </tbody>\n",
       "</table>\n",
       "</div>"
      ],
      "text/plain": [
       "                                             content  score\n",
       "0                      I cannot open the app anymore      1\n",
       "1  I have been begging for a refund from this app...      1\n",
       "2  Very costly for the premium version (approx In...      1\n",
       "3  Used to keep me organized, but all the 2020 UP...      1\n",
       "4                                Dan Birthday Oct 28      1"
      ]
     },
     "execution_count": 6,
     "metadata": {},
     "output_type": "execute_result"
    }
   ],
   "source": [
    "reviews_data = reviews_data[['content','score']]\n",
    "reviews_data.head()"
   ]
  },
  {
   "cell_type": "code",
   "execution_count": 7,
   "id": "e0a93a6e",
   "metadata": {},
   "outputs": [
    {
     "data": {
      "text/plain": [
       "content    0\n",
       "score      0\n",
       "dtype: int64"
      ]
     },
     "execution_count": 7,
     "metadata": {},
     "output_type": "execute_result"
    }
   ],
   "source": [
    "reviews_data.isnull().sum()"
   ]
  },
  {
   "cell_type": "code",
   "execution_count": 8,
   "id": "36b959d0",
   "metadata": {},
   "outputs": [],
   "source": [
    "import seaborn as sn"
   ]
  },
  {
   "cell_type": "code",
   "execution_count": 9,
   "id": "c988602a",
   "metadata": {
    "scrolled": false
   },
   "outputs": [
    {
     "data": {
      "text/plain": [
       "<AxesSubplot:ylabel='score'>"
      ]
     },
     "execution_count": 9,
     "metadata": {},
     "output_type": "execute_result"
    },
    {
     "data": {
      "image/png": "[encoded data removed]",
      "text/plain": [
       "<Figure size 432x288 with 1 Axes>"
      ]
     },
     "metadata": {
      "needs_background": "light"
     },
     "output_type": "display_data"
    }
   ],
   "source": [
    "sn.barplot(x = reviews_data.score.value_counts().index,y=reviews_data.score.value_counts())"
   ]
  },
  {
   "cell_type": "markdown",
   "id": "0f6eb449",
   "metadata": {},
   "source": [
    "### let's segregate the data into 2 groups for better analysis,\n",
    "1. Rating from 1-2 will be negative(0)\n",
    "2. Rating from 4-5 will be positive(1)"
   ]
  },
  {
   "cell_type": "code",
   "execution_count": 10,
   "id": "0601c26b",
   "metadata": {},
   "outputs": [],
   "source": [
    "import nltk"
   ]
  },
  {
   "cell_type": "code",
   "execution_count": 11,
   "id": "b792b695",
   "metadata": {},
   "outputs": [
    {
     "name": "stderr",
     "output_type": "stream",
     "text": [
      "[nltk_data] Downloading package vader_lexicon to\n",
      "[nltk_data]     /Users/macbookpro/nltk_data...\n",
      "[nltk_data]   Package vader_lexicon is already up-to-date!\n"
     ]
    },
    {
     "data": {
      "text/plain": [
       "True"
      ]
     },
     "execution_count": 11,
     "metadata": {},
     "output_type": "execute_result"
    }
   ],
   "source": [
    "nltk.download('vader_lexicon')"
   ]
  },
  {
   "cell_type": "code",
   "execution_count": 12,
   "id": "4fa27cda",
   "metadata": {},
   "outputs": [],
   "source": [
    "from nltk.sentiment.vader import SentimentIntensityAnalyzer as SIA"
   ]
  },
  {
   "cell_type": "code",
   "execution_count": 13,
   "id": "cf08351f",
   "metadata": {},
   "outputs": [],
   "source": [
    "def analyze_sentiment(data):\n",
    "    analysis = SIA().polarity_scores(data)\n",
    "    if analysis['compound'] > 0:    # Converting rating 3 with positive sentiment as group 1\n",
    "        return 'Positive'\n",
    "    elif analysis['compound'] == 0: # Converting rating 3 with neutral sentiment as group to drop\n",
    "        return 'Neutral'\n",
    "    else:                           # Converting rating 3 with negative sentiment as group 0\n",
    "        return 'Negative'"
   ]
  },
  {
   "cell_type": "code",
   "execution_count": 14,
   "id": "0aeb0216",
   "metadata": {},
   "outputs": [],
   "source": [
    "reviews_data['sentiment_neutral_ratings'] = reviews_data[reviews_data.score == 3].content.apply(analyze_sentiment)"
   ]
  },
  {
   "cell_type": "code",
   "execution_count": 15,
   "id": "bce5a94b",
   "metadata": {},
   "outputs": [
    {
     "data": {
      "text/html": [
       "<div>\n",
       "<style scoped>\n",
       "    .dataframe tbody tr th:only-of-type {\n",
       "        vertical-align: middle;\n",
       "    }\n",
       "\n",
       "    .dataframe tbody tr th {\n",
       "        vertical-align: top;\n",
       "    }\n",
       "\n",
       "    .dataframe thead th {\n",
       "        text-align: right;\n",
       "    }\n",
       "</style>\n",
       "<table border=\"1\" class=\"dataframe\">\n",
       "  <thead>\n",
       "    <tr style=\"text-align: right;\">\n",
       "      <th></th>\n",
       "      <th>content</th>\n",
       "      <th>score</th>\n",
       "      <th>sentiment_neutral_ratings</th>\n",
       "    </tr>\n",
       "  </thead>\n",
       "  <tbody>\n",
       "    <tr>\n",
       "      <th>400</th>\n",
       "      <td>This still works pretty well, but I'm not a fa...</td>\n",
       "      <td>3</td>\n",
       "      <td>Positive</td>\n",
       "    </tr>\n",
       "    <tr>\n",
       "      <th>401</th>\n",
       "      <td>Good app. Annoying pop up every morning on my ...</td>\n",
       "      <td>3</td>\n",
       "      <td>Positive</td>\n",
       "    </tr>\n",
       "    <tr>\n",
       "      <th>402</th>\n",
       "      <td>I haven't used they made an effort from there ...</td>\n",
       "      <td>3</td>\n",
       "      <td>Negative</td>\n",
       "    </tr>\n",
       "    <tr>\n",
       "      <th>403</th>\n",
       "      <td>29.9. Nothing new, I've already reconciled to ...</td>\n",
       "      <td>3</td>\n",
       "      <td>Positive</td>\n",
       "    </tr>\n",
       "    <tr>\n",
       "      <th>404</th>\n",
       "      <td>I've been a satisfied user of Any.do since Mar...</td>\n",
       "      <td>3</td>\n",
       "      <td>Positive</td>\n",
       "    </tr>\n",
       "  </tbody>\n",
       "</table>\n",
       "</div>"
      ],
      "text/plain": [
       "                                               content  score  \\\n",
       "400  This still works pretty well, but I'm not a fa...      3   \n",
       "401  Good app. Annoying pop up every morning on my ...      3   \n",
       "402  I haven't used they made an effort from there ...      3   \n",
       "403  29.9. Nothing new, I've already reconciled to ...      3   \n",
       "404  I've been a satisfied user of Any.do since Mar...      3   \n",
       "\n",
       "    sentiment_neutral_ratings  \n",
       "400                  Positive  \n",
       "401                  Positive  \n",
       "402                  Negative  \n",
       "403                  Positive  \n",
       "404                  Positive  "
      ]
     },
     "execution_count": 15,
     "metadata": {},
     "output_type": "execute_result"
    }
   ],
   "source": [
    "reviews_data[reviews_data.score == 3].head()"
   ]
  },
  {
   "cell_type": "code",
   "execution_count": 16,
   "id": "e738890a",
   "metadata": {},
   "outputs": [
    {
     "data": {
      "text/html": [
       "<div>\n",
       "<style scoped>\n",
       "    .dataframe tbody tr th:only-of-type {\n",
       "        vertical-align: middle;\n",
       "    }\n",
       "\n",
       "    .dataframe tbody tr th {\n",
       "        vertical-align: top;\n",
       "    }\n",
       "\n",
       "    .dataframe thead th {\n",
       "        text-align: right;\n",
       "    }\n",
       "</style>\n",
       "<table border=\"1\" class=\"dataframe\">\n",
       "  <thead>\n",
       "    <tr style=\"text-align: right;\">\n",
       "      <th></th>\n",
       "      <th>content</th>\n",
       "      <th>score</th>\n",
       "      <th>sentiment_neutral_ratings</th>\n",
       "    </tr>\n",
       "  </thead>\n",
       "  <tbody>\n",
       "    <tr>\n",
       "      <th>426</th>\n",
       "      <td>Too many options and gets too fancy for an app...</td>\n",
       "      <td>3</td>\n",
       "      <td>Neutral</td>\n",
       "    </tr>\n",
       "    <tr>\n",
       "      <th>429</th>\n",
       "      <td>Way too expensive; if there was a monthly opti...</td>\n",
       "      <td>3</td>\n",
       "      <td>Neutral</td>\n",
       "    </tr>\n",
       "    <tr>\n",
       "      <th>438</th>\n",
       "      <td>Hyyy</td>\n",
       "      <td>3</td>\n",
       "      <td>Neutral</td>\n",
       "    </tr>\n",
       "    <tr>\n",
       "      <th>441</th>\n",
       "      <td>Don't know</td>\n",
       "      <td>3</td>\n",
       "      <td>Neutral</td>\n",
       "    </tr>\n",
       "    <tr>\n",
       "      <th>445</th>\n",
       "      <td>We need a monthly payment terms. Currently it ...</td>\n",
       "      <td>3</td>\n",
       "      <td>Neutral</td>\n",
       "    </tr>\n",
       "  </tbody>\n",
       "</table>\n",
       "</div>"
      ],
      "text/plain": [
       "                                               content  score  \\\n",
       "426  Too many options and gets too fancy for an app...      3   \n",
       "429  Way too expensive; if there was a monthly opti...      3   \n",
       "438                                               Hyyy      3   \n",
       "441                                         Don't know      3   \n",
       "445  We need a monthly payment terms. Currently it ...      3   \n",
       "\n",
       "    sentiment_neutral_ratings  \n",
       "426                   Neutral  \n",
       "429                   Neutral  \n",
       "438                   Neutral  \n",
       "441                   Neutral  \n",
       "445                   Neutral  "
      ]
     },
     "execution_count": 16,
     "metadata": {},
     "output_type": "execute_result"
    }
   ],
   "source": [
    "reviews_data[reviews_data.sentiment_neutral_ratings == 'Neutral'].head() # Drop these records"
   ]
  },
  {
   "cell_type": "code",
   "execution_count": 17,
   "id": "403ae63a",
   "metadata": {},
   "outputs": [],
   "source": [
    "reviews_data = reviews_data[reviews_data.sentiment_neutral_ratings != 'Neutral'] # Discarding neutral records"
   ]
  },
  {
   "cell_type": "code",
   "execution_count": 18,
   "id": "567951f7",
   "metadata": {},
   "outputs": [],
   "source": [
    "def rating_seg(df):\n",
    "  score_ = 0\n",
    "  if df['score'] <= 2:\n",
    "    score_ = 0\n",
    "  elif df['score'] == 3:\n",
    "    if df['sentiment_neutral_ratings'] == 'Positive':\n",
    "      score_ = 0\n",
    "    else:\n",
    "      score_ = 1\n",
    "  else:\n",
    "    score_ = 1\n",
    "  return score_\n"
   ]
  },
  {
   "cell_type": "code",
   "execution_count": 19,
   "id": "45650c86",
   "metadata": {},
   "outputs": [
    {
     "data": {
      "text/html": [
       "<div>\n",
       "<style scoped>\n",
       "    .dataframe tbody tr th:only-of-type {\n",
       "        vertical-align: middle;\n",
       "    }\n",
       "\n",
       "    .dataframe tbody tr th {\n",
       "        vertical-align: top;\n",
       "    }\n",
       "\n",
       "    .dataframe thead th {\n",
       "        text-align: right;\n",
       "    }\n",
       "</style>\n",
       "<table border=\"1\" class=\"dataframe\">\n",
       "  <thead>\n",
       "    <tr style=\"text-align: right;\">\n",
       "      <th></th>\n",
       "      <th>score</th>\n",
       "      <th>new_score</th>\n",
       "    </tr>\n",
       "  </thead>\n",
       "  <tbody>\n",
       "    <tr>\n",
       "      <th>8327</th>\n",
       "      <td>4</td>\n",
       "      <td>1</td>\n",
       "    </tr>\n",
       "    <tr>\n",
       "      <th>10954</th>\n",
       "      <td>2</td>\n",
       "      <td>0</td>\n",
       "    </tr>\n",
       "    <tr>\n",
       "      <th>8382</th>\n",
       "      <td>4</td>\n",
       "      <td>1</td>\n",
       "    </tr>\n",
       "    <tr>\n",
       "      <th>7109</th>\n",
       "      <td>2</td>\n",
       "      <td>0</td>\n",
       "    </tr>\n",
       "    <tr>\n",
       "      <th>340</th>\n",
       "      <td>2</td>\n",
       "      <td>0</td>\n",
       "    </tr>\n",
       "  </tbody>\n",
       "</table>\n",
       "</div>"
      ],
      "text/plain": [
       "       score  new_score\n",
       "8327       4          1\n",
       "10954      2          0\n",
       "8382       4          1\n",
       "7109       2          0\n",
       "340        2          0"
      ]
     },
     "execution_count": 19,
     "metadata": {},
     "output_type": "execute_result"
    }
   ],
   "source": [
    "reviews_data['new_score'] = reviews_data.apply(rating_seg, axis=1)\n",
    "reviews_data[['score','new_score']].sample(frac=1.0).head() # verifying data"
   ]
  },
  {
   "cell_type": "code",
   "execution_count": 20,
   "id": "65e0191a",
   "metadata": {},
   "outputs": [],
   "source": [
    "reviews_data.drop(['sentiment_neutral_ratings'],inplace=True,axis=1)"
   ]
  },
  {
   "cell_type": "markdown",
   "id": "284e8137",
   "metadata": {},
   "source": [
    "### Data Pre-Processing\n",
    "ML models require data to be in numeric format, since we are dealing with textual data, Let's clean textual data and then convert it into numeric format.\n",
    "This is how we clean any textual data,\n",
    "1. Replacing/Dropping NULL values"
   ]
  },
  {
   "cell_type": "code",
   "execution_count": 21,
   "id": "2357e261",
   "metadata": {
    "scrolled": true
   },
   "outputs": [
    {
     "data": {
      "text/plain": [
       "content      0\n",
       "score        0\n",
       "new_score    0\n",
       "dtype: int64"
      ]
     },
     "execution_count": 21,
     "metadata": {},
     "output_type": "execute_result"
    }
   ],
   "source": [
    "reviews_data.isnull().sum()\n",
    "# Since our data has no null values let's skip this step"
   ]
  },
  {
   "cell_type": "markdown",
   "id": "0466dfd7",
   "metadata": {},
   "source": [
    "### 2. Converting to 'lower' case¶"
   ]
  },
  {
   "cell_type": "code",
   "execution_count": 22,
   "id": "ade4591e",
   "metadata": {},
   "outputs": [
    {
     "data": {
      "text/plain": [
       "0                        I cannot open the app anymore\n",
       "1    I have been begging for a refund from this app...\n",
       "2    Very costly for the premium version (approx In...\n",
       "3    Used to keep me organized, but all the 2020 UP...\n",
       "4                                  Dan Birthday Oct 28\n",
       "Name: content, dtype: object"
      ]
     },
     "execution_count": 22,
     "metadata": {},
     "output_type": "execute_result"
    }
   ],
   "source": [
    "reviews_data['content'].head()\n",
    "# from below data we can verify that our data has uppercase letters, let's convert our data in lower case"
   ]
  },
  {
   "cell_type": "code",
   "execution_count": 23,
   "id": "170f0116",
   "metadata": {
    "scrolled": true
   },
   "outputs": [
    {
     "data": {
      "text/html": [
       "<div>\n",
       "<style scoped>\n",
       "    .dataframe tbody tr th:only-of-type {\n",
       "        vertical-align: middle;\n",
       "    }\n",
       "\n",
       "    .dataframe tbody tr th {\n",
       "        vertical-align: top;\n",
       "    }\n",
       "\n",
       "    .dataframe thead th {\n",
       "        text-align: right;\n",
       "    }\n",
       "</style>\n",
       "<table border=\"1\" class=\"dataframe\">\n",
       "  <thead>\n",
       "    <tr style=\"text-align: right;\">\n",
       "      <th></th>\n",
       "      <th>content</th>\n",
       "      <th>new_content</th>\n",
       "    </tr>\n",
       "  </thead>\n",
       "  <tbody>\n",
       "    <tr>\n",
       "      <th>0</th>\n",
       "      <td>I cannot open the app anymore</td>\n",
       "      <td>i cannot open the app anymore</td>\n",
       "    </tr>\n",
       "    <tr>\n",
       "      <th>1</th>\n",
       "      <td>I have been begging for a refund from this app...</td>\n",
       "      <td>i have been begging for a refund from this app...</td>\n",
       "    </tr>\n",
       "    <tr>\n",
       "      <th>2</th>\n",
       "      <td>Very costly for the premium version (approx In...</td>\n",
       "      <td>very costly for the premium version (approx in...</td>\n",
       "    </tr>\n",
       "    <tr>\n",
       "      <th>3</th>\n",
       "      <td>Used to keep me organized, but all the 2020 UP...</td>\n",
       "      <td>used to keep me organized, but all the 2020 up...</td>\n",
       "    </tr>\n",
       "    <tr>\n",
       "      <th>4</th>\n",
       "      <td>Dan Birthday Oct 28</td>\n",
       "      <td>dan birthday oct 28</td>\n",
       "    </tr>\n",
       "  </tbody>\n",
       "</table>\n",
       "</div>"
      ],
      "text/plain": [
       "                                             content  \\\n",
       "0                      I cannot open the app anymore   \n",
       "1  I have been begging for a refund from this app...   \n",
       "2  Very costly for the premium version (approx In...   \n",
       "3  Used to keep me organized, but all the 2020 UP...   \n",
       "4                                Dan Birthday Oct 28   \n",
       "\n",
       "                                         new_content  \n",
       "0                      i cannot open the app anymore  \n",
       "1  i have been begging for a refund from this app...  \n",
       "2  very costly for the premium version (approx in...  \n",
       "3  used to keep me organized, but all the 2020 up...  \n",
       "4                                dan birthday oct 28  "
      ]
     },
     "execution_count": 23,
     "metadata": {},
     "output_type": "execute_result"
    }
   ],
   "source": [
    "reviews_data['new_content'] = reviews_data['content'].apply(lambda x: str(x).lower())\n",
    "reviews_data[['content','new_content']].head()"
   ]
  },
  {
   "cell_type": "markdown",
   "id": "960d5ad0",
   "metadata": {},
   "source": [
    "### 3. Removing Non-Alpha Data(DIGITS,PUNCTUATIONS,DIACRITICS)"
   ]
  },
  {
   "cell_type": "code",
   "execution_count": 24,
   "id": "0f043b14",
   "metadata": {},
   "outputs": [
    {
     "data": {
      "text/plain": [
       "2    very costly for the premium version (approx in...\n",
       "3    used to keep me organized, but all the 2020 up...\n",
       "4                                  dan birthday oct 28\n",
       "5    it has changed how i viewed my different lists...\n",
       "6    i'm only looking for a grocery list app but ev...\n",
       "Name: new_content, dtype: object"
      ]
     },
     "execution_count": 24,
     "metadata": {},
     "output_type": "execute_result"
    }
   ],
   "source": [
    "reviews_data.loc[reviews_data['new_content'].str.contains(\"[^a-z\\s]\"),'new_content'].head()\n",
    "\n",
    "# From below data we can notice that there are many rows that has non-aplhabet data"
   ]
  },
  {
   "cell_type": "code",
   "execution_count": 25,
   "id": "d7573433",
   "metadata": {},
   "outputs": [
    {
     "data": {
      "text/html": [
       "<div>\n",
       "<style scoped>\n",
       "    .dataframe tbody tr th:only-of-type {\n",
       "        vertical-align: middle;\n",
       "    }\n",
       "\n",
       "    .dataframe tbody tr th {\n",
       "        vertical-align: top;\n",
       "    }\n",
       "\n",
       "    .dataframe thead th {\n",
       "        text-align: right;\n",
       "    }\n",
       "</style>\n",
       "<table border=\"1\" class=\"dataframe\">\n",
       "  <thead>\n",
       "    <tr style=\"text-align: right;\">\n",
       "      <th></th>\n",
       "      <th>content</th>\n",
       "      <th>new_content</th>\n",
       "    </tr>\n",
       "  </thead>\n",
       "  <tbody>\n",
       "    <tr>\n",
       "      <th>0</th>\n",
       "      <td>I cannot open the app anymore</td>\n",
       "      <td>i cannot open the app anymore</td>\n",
       "    </tr>\n",
       "    <tr>\n",
       "      <th>1</th>\n",
       "      <td>I have been begging for a refund from this app...</td>\n",
       "      <td>i have been begging for a refund from this app...</td>\n",
       "    </tr>\n",
       "    <tr>\n",
       "      <th>2</th>\n",
       "      <td>Very costly for the premium version (approx In...</td>\n",
       "      <td>very costly for the premium version  approx in...</td>\n",
       "    </tr>\n",
       "    <tr>\n",
       "      <th>3</th>\n",
       "      <td>Used to keep me organized, but all the 2020 UP...</td>\n",
       "      <td>used to keep me organized  but all the      up...</td>\n",
       "    </tr>\n",
       "    <tr>\n",
       "      <th>4</th>\n",
       "      <td>Dan Birthday Oct 28</td>\n",
       "      <td>dan birthday oct</td>\n",
       "    </tr>\n",
       "  </tbody>\n",
       "</table>\n",
       "</div>"
      ],
      "text/plain": [
       "                                             content  \\\n",
       "0                      I cannot open the app anymore   \n",
       "1  I have been begging for a refund from this app...   \n",
       "2  Very costly for the premium version (approx In...   \n",
       "3  Used to keep me organized, but all the 2020 UP...   \n",
       "4                                Dan Birthday Oct 28   \n",
       "\n",
       "                                         new_content  \n",
       "0                      i cannot open the app anymore  \n",
       "1  i have been begging for a refund from this app...  \n",
       "2  very costly for the premium version  approx in...  \n",
       "3  used to keep me organized  but all the      up...  \n",
       "4                                dan birthday oct     "
      ]
     },
     "execution_count": 25,
     "metadata": {},
     "output_type": "execute_result"
    }
   ],
   "source": [
    "reviews_data['new_content'] = reviews_data['new_content'].str.replace(r'[^a-zA-Z\\s]', ' ') # replacing junk data with space\n",
    "reviews_data[['content','new_content']].head()"
   ]
  },
  {
   "cell_type": "code",
   "execution_count": 26,
   "id": "6810898a",
   "metadata": {},
   "outputs": [
    {
     "data": {
      "text/plain": [
       "Series([], Name: new_content, dtype: object)"
      ]
     },
     "execution_count": 26,
     "metadata": {},
     "output_type": "execute_result"
    }
   ],
   "source": [
    "reviews_data.loc[reviews_data['new_content'].str.contains(\"[^a-z\\s]\"),'new_content']\n",
    "# Our data now contains only alphabets"
   ]
  },
  {
   "cell_type": "code",
   "execution_count": 27,
   "id": "f34df8f9",
   "metadata": {
    "scrolled": true
   },
   "outputs": [
    {
     "data": {
      "text/html": [
       "<style  type=\"text/css\" >\n",
       "#T_8c787_row0_col0,#T_8c787_row0_col1,#T_8c787_row1_col0,#T_8c787_row1_col1,#T_8c787_row2_col0,#T_8c787_row2_col1,#T_8c787_row3_col0,#T_8c787_row3_col1,#T_8c787_row4_col0,#T_8c787_row4_col1{\n",
       "            width:  400px;\n",
       "        }</style><table id=\"T_8c787_\" ><thead>    <tr>        <th class=\"blank level0\" ></th>        <th class=\"col_heading level0 col0\" >content</th>        <th class=\"col_heading level0 col1\" >new_content</th>    </tr></thead><tbody>\n",
       "                <tr>\n",
       "                        <th id=\"T_8c787_level0_row0\" class=\"row_heading level0 row0\" >0</th>\n",
       "                        <td id=\"T_8c787_row0_col0\" class=\"data row0 col0\" >I cannot open the app anymore</td>\n",
       "                        <td id=\"T_8c787_row0_col1\" class=\"data row0 col1\" >i cannot open the app anymore</td>\n",
       "            </tr>\n",
       "            <tr>\n",
       "                        <th id=\"T_8c787_level0_row1\" class=\"row_heading level0 row1\" >1</th>\n",
       "                        <td id=\"T_8c787_row1_col0\" class=\"data row1 col0\" >I have been begging for a refund from this app for over a month and nobody is replying me</td>\n",
       "                        <td id=\"T_8c787_row1_col1\" class=\"data row1 col1\" >i have been begging for a refund from this app for over a month and nobody is replying me</td>\n",
       "            </tr>\n",
       "            <tr>\n",
       "                        <th id=\"T_8c787_level0_row2\" class=\"row_heading level0 row2\" >2</th>\n",
       "                        <td id=\"T_8c787_row2_col0\" class=\"data row2 col0\" >Very costly for the premium version (approx Indian Rupees 910 per year). Better to download the premium version of this app from apkmos website and use it. Microsoft to do list app is far more better.</td>\n",
       "                        <td id=\"T_8c787_row2_col1\" class=\"data row2 col1\" >very costly for the premium version  approx indian rupees     per year   better to download the premium version of this app from apkmos website and use it  microsoft to do list app is far more better </td>\n",
       "            </tr>\n",
       "            <tr>\n",
       "                        <th id=\"T_8c787_level0_row3\" class=\"row_heading level0 row3\" >3</th>\n",
       "                        <td id=\"T_8c787_row3_col0\" class=\"data row3 col0\" >Used to keep me organized, but all the 2020 UPDATES have made a mess of things !!! Y cudn't u leave well enuf alone ??? Guess ur techies feel the need to keep making changes to justify continuing to collect their salary !!! 🤤🤤🤤</td>\n",
       "                        <td id=\"T_8c787_row3_col1\" class=\"data row3 col1\" >used to keep me organized  but all the      updates have made a mess of things     y cudn t u leave well enuf alone     guess ur techies feel the need to keep making changes to justify continuing to collect their salary        </td>\n",
       "            </tr>\n",
       "            <tr>\n",
       "                        <th id=\"T_8c787_level0_row4\" class=\"row_heading level0 row4\" >4</th>\n",
       "                        <td id=\"T_8c787_row4_col0\" class=\"data row4 col0\" >Dan Birthday Oct 28</td>\n",
       "                        <td id=\"T_8c787_row4_col1\" class=\"data row4 col1\" >dan birthday oct   </td>\n",
       "            </tr>\n",
       "    </tbody></table>"
      ],
      "text/plain": [
       "<pandas.io.formats.style.Styler at 0x7fc55b5b9640>"
      ]
     },
     "execution_count": 27,
     "metadata": {},
     "output_type": "execute_result"
    }
   ],
   "source": [
    "reviews_data[['content','new_content']].head().style.set_properties( **{'width': '400px'})"
   ]
  },
  {
   "cell_type": "markdown",
   "id": "6ae049b4",
   "metadata": {},
   "source": [
    "### 4. Removing white spaces"
   ]
  },
  {
   "cell_type": "code",
   "execution_count": 28,
   "id": "ef93d837",
   "metadata": {
    "scrolled": true
   },
   "outputs": [
    {
     "data": {
      "text/plain": [
       "2    very costly for the premium version  approx in...\n",
       "3    used to keep me organized  but all the      up...\n",
       "4                                  dan birthday oct   \n",
       "5    it has changed how i viewed my different lists...\n",
       "6    i m only looking for a grocery list app but ev...\n",
       "Name: new_content, dtype: object"
      ]
     },
     "execution_count": 28,
     "metadata": {},
     "output_type": "execute_result"
    }
   ],
   "source": [
    "reviews_data.loc[reviews_data['new_content'].str.contains(\"\\s{2,}\"),'new_content'].head()\n",
    "# From below data we can notice after removing non-alphabet data we have extra spaces(2 or more) in between"
   ]
  },
  {
   "cell_type": "code",
   "execution_count": 29,
   "id": "3d144b9d",
   "metadata": {},
   "outputs": [],
   "source": [
    "reviews_data['new_content'] = reviews_data['new_content'].str.replace(r'\\s{2,}', ' ')"
   ]
  },
  {
   "cell_type": "markdown",
   "id": "ceffc5f7",
   "metadata": {},
   "source": [
    "### 5. Words Tokenization"
   ]
  },
  {
   "cell_type": "code",
   "execution_count": 30,
   "id": "80b5611d",
   "metadata": {},
   "outputs": [
    {
     "name": "stderr",
     "output_type": "stream",
     "text": [
      "[nltk_data] Downloading package punkt to\n",
      "[nltk_data]     /Users/macbookpro/nltk_data...\n",
      "[nltk_data]   Package punkt is already up-to-date!\n"
     ]
    },
    {
     "data": {
      "text/plain": [
       "True"
      ]
     },
     "execution_count": 30,
     "metadata": {},
     "output_type": "execute_result"
    }
   ],
   "source": [
    "from nltk.tokenize import word_tokenize\n",
    "nltk.download('punkt')"
   ]
  },
  {
   "cell_type": "code",
   "execution_count": 31,
   "id": "81c93e82",
   "metadata": {},
   "outputs": [],
   "source": [
    "reviews_data['new_content'] = reviews_data['new_content'].apply(lambda x: word_tokenize(x))"
   ]
  },
  {
   "cell_type": "code",
   "execution_count": 32,
   "id": "4c514455",
   "metadata": {
    "scrolled": true
   },
   "outputs": [
    {
     "data": {
      "text/html": [
       "<div>\n",
       "<style scoped>\n",
       "    .dataframe tbody tr th:only-of-type {\n",
       "        vertical-align: middle;\n",
       "    }\n",
       "\n",
       "    .dataframe tbody tr th {\n",
       "        vertical-align: top;\n",
       "    }\n",
       "\n",
       "    .dataframe thead th {\n",
       "        text-align: right;\n",
       "    }\n",
       "</style>\n",
       "<table border=\"1\" class=\"dataframe\">\n",
       "  <thead>\n",
       "    <tr style=\"text-align: right;\">\n",
       "      <th></th>\n",
       "      <th>content</th>\n",
       "      <th>new_content</th>\n",
       "    </tr>\n",
       "  </thead>\n",
       "  <tbody>\n",
       "    <tr>\n",
       "      <th>0</th>\n",
       "      <td>I cannot open the app anymore</td>\n",
       "      <td>[i, can, not, open, the, app, anymore]</td>\n",
       "    </tr>\n",
       "    <tr>\n",
       "      <th>1</th>\n",
       "      <td>I have been begging for a refund from this app...</td>\n",
       "      <td>[i, have, been, begging, for, a, refund, from,...</td>\n",
       "    </tr>\n",
       "    <tr>\n",
       "      <th>2</th>\n",
       "      <td>Very costly for the premium version (approx In...</td>\n",
       "      <td>[very, costly, for, the, premium, version, app...</td>\n",
       "    </tr>\n",
       "    <tr>\n",
       "      <th>3</th>\n",
       "      <td>Used to keep me organized, but all the 2020 UP...</td>\n",
       "      <td>[used, to, keep, me, organized, but, all, the,...</td>\n",
       "    </tr>\n",
       "    <tr>\n",
       "      <th>4</th>\n",
       "      <td>Dan Birthday Oct 28</td>\n",
       "      <td>[dan, birthday, oct]</td>\n",
       "    </tr>\n",
       "  </tbody>\n",
       "</table>\n",
       "</div>"
      ],
      "text/plain": [
       "                                             content  \\\n",
       "0                      I cannot open the app anymore   \n",
       "1  I have been begging for a refund from this app...   \n",
       "2  Very costly for the premium version (approx In...   \n",
       "3  Used to keep me organized, but all the 2020 UP...   \n",
       "4                                Dan Birthday Oct 28   \n",
       "\n",
       "                                         new_content  \n",
       "0             [i, can, not, open, the, app, anymore]  \n",
       "1  [i, have, been, begging, for, a, refund, from,...  \n",
       "2  [very, costly, for, the, premium, version, app...  \n",
       "3  [used, to, keep, me, organized, but, all, the,...  \n",
       "4                               [dan, birthday, oct]  "
      ]
     },
     "execution_count": 32,
     "metadata": {},
     "output_type": "execute_result"
    }
   ],
   "source": [
    "reviews_data[['content','new_content']].head()"
   ]
  },
  {
   "cell_type": "markdown",
   "id": "fd2ac6b4",
   "metadata": {},
   "source": [
    "### 6. Removing stop word"
   ]
  },
  {
   "cell_type": "code",
   "execution_count": 33,
   "id": "ab44ec75",
   "metadata": {},
   "outputs": [
    {
     "name": "stdout",
     "output_type": "stream",
     "text": [
      "zsh:1: command not found: pip\r\n"
     ]
    }
   ],
   "source": [
    "!pip install stopwords"
   ]
  },
  {
   "cell_type": "code",
   "execution_count": 34,
   "id": "e809fed9",
   "metadata": {},
   "outputs": [
    {
     "name": "stderr",
     "output_type": "stream",
     "text": [
      "[nltk_data] Downloading package stopwords to\n",
      "[nltk_data]     /Users/macbookpro/nltk_data...\n",
      "[nltk_data]   Package stopwords is already up-to-date!\n"
     ]
    },
    {
     "data": {
      "text/plain": [
       "True"
      ]
     },
     "execution_count": 34,
     "metadata": {},
     "output_type": "execute_result"
    }
   ],
   "source": [
    "from nltk.corpus import stopwords\n",
    "nltk.download('stopwords')"
   ]
  },
  {
   "cell_type": "code",
   "execution_count": 35,
   "id": "55534067",
   "metadata": {},
   "outputs": [
    {
     "data": {
      "text/plain": [
       "['i',\n",
       " 'me',\n",
       " 'my',\n",
       " 'myself',\n",
       " 'we',\n",
       " 'our',\n",
       " 'ours',\n",
       " 'ourselves',\n",
       " 'you',\n",
       " \"you're\",\n",
       " \"you've\",\n",
       " \"you'll\",\n",
       " \"you'd\",\n",
       " 'your',\n",
       " 'yours',\n",
       " 'yourself',\n",
       " 'yourselves',\n",
       " 'he',\n",
       " 'him',\n",
       " 'his']"
      ]
     },
     "execution_count": 35,
     "metadata": {},
     "output_type": "execute_result"
    }
   ],
   "source": [
    "stopwords.words(\"english\")[:20]"
   ]
  },
  {
   "cell_type": "code",
   "execution_count": 36,
   "id": "4815f12a",
   "metadata": {},
   "outputs": [],
   "source": [
    "reviews_data['new_content'] = reviews_data.new_content.apply(lambda x: [word for word in x if word not in stopwords.words(\"english\")])"
   ]
  },
  {
   "cell_type": "code",
   "execution_count": 37,
   "id": "10ee3083",
   "metadata": {},
   "outputs": [
    {
     "data": {
      "text/html": [
       "<div>\n",
       "<style scoped>\n",
       "    .dataframe tbody tr th:only-of-type {\n",
       "        vertical-align: middle;\n",
       "    }\n",
       "\n",
       "    .dataframe tbody tr th {\n",
       "        vertical-align: top;\n",
       "    }\n",
       "\n",
       "    .dataframe thead th {\n",
       "        text-align: right;\n",
       "    }\n",
       "</style>\n",
       "<table border=\"1\" class=\"dataframe\">\n",
       "  <thead>\n",
       "    <tr style=\"text-align: right;\">\n",
       "      <th></th>\n",
       "      <th>content</th>\n",
       "      <th>new_content</th>\n",
       "    </tr>\n",
       "  </thead>\n",
       "  <tbody>\n",
       "    <tr>\n",
       "      <th>0</th>\n",
       "      <td>I cannot open the app anymore</td>\n",
       "      <td>[open, app, anymore]</td>\n",
       "    </tr>\n",
       "    <tr>\n",
       "      <th>1</th>\n",
       "      <td>I have been begging for a refund from this app...</td>\n",
       "      <td>[begging, refund, app, month, nobody, replying]</td>\n",
       "    </tr>\n",
       "    <tr>\n",
       "      <th>2</th>\n",
       "      <td>Very costly for the premium version (approx In...</td>\n",
       "      <td>[costly, premium, version, approx, indian, rup...</td>\n",
       "    </tr>\n",
       "    <tr>\n",
       "      <th>3</th>\n",
       "      <td>Used to keep me organized, but all the 2020 UP...</td>\n",
       "      <td>[used, keep, organized, updates, made, mess, t...</td>\n",
       "    </tr>\n",
       "    <tr>\n",
       "      <th>4</th>\n",
       "      <td>Dan Birthday Oct 28</td>\n",
       "      <td>[dan, birthday, oct]</td>\n",
       "    </tr>\n",
       "  </tbody>\n",
       "</table>\n",
       "</div>"
      ],
      "text/plain": [
       "                                             content  \\\n",
       "0                      I cannot open the app anymore   \n",
       "1  I have been begging for a refund from this app...   \n",
       "2  Very costly for the premium version (approx In...   \n",
       "3  Used to keep me organized, but all the 2020 UP...   \n",
       "4                                Dan Birthday Oct 28   \n",
       "\n",
       "                                         new_content  \n",
       "0                               [open, app, anymore]  \n",
       "1    [begging, refund, app, month, nobody, replying]  \n",
       "2  [costly, premium, version, approx, indian, rup...  \n",
       "3  [used, keep, organized, updates, made, mess, t...  \n",
       "4                               [dan, birthday, oct]  "
      ]
     },
     "execution_count": 37,
     "metadata": {},
     "output_type": "execute_result"
    }
   ],
   "source": [
    "reviews_data[['content','new_content']].head() # We have removed the stop words"
   ]
  },
  {
   "cell_type": "markdown",
   "id": "adadc90d",
   "metadata": {},
   "source": [
    "### 7. Let's Remove Records that has '0' OR '1' word"
   ]
  },
  {
   "cell_type": "code",
   "execution_count": 38,
   "id": "cde26baa",
   "metadata": {},
   "outputs": [
    {
     "data": {
      "text/html": [
       "<div>\n",
       "<style scoped>\n",
       "    .dataframe tbody tr th:only-of-type {\n",
       "        vertical-align: middle;\n",
       "    }\n",
       "\n",
       "    .dataframe tbody tr th {\n",
       "        vertical-align: top;\n",
       "    }\n",
       "\n",
       "    .dataframe thead th {\n",
       "        text-align: right;\n",
       "    }\n",
       "</style>\n",
       "<table border=\"1\" class=\"dataframe\">\n",
       "  <thead>\n",
       "    <tr style=\"text-align: right;\">\n",
       "      <th></th>\n",
       "      <th>content</th>\n",
       "      <th>score</th>\n",
       "      <th>new_score</th>\n",
       "      <th>new_content</th>\n",
       "    </tr>\n",
       "  </thead>\n",
       "  <tbody>\n",
       "    <tr>\n",
       "      <th>19</th>\n",
       "      <td>Do not download</td>\n",
       "      <td>1</td>\n",
       "      <td>0</td>\n",
       "      <td>[download]</td>\n",
       "    </tr>\n",
       "    <tr>\n",
       "      <th>38</th>\n",
       "      <td>Yes i what</td>\n",
       "      <td>1</td>\n",
       "      <td>0</td>\n",
       "      <td>[yes]</td>\n",
       "    </tr>\n",
       "    <tr>\n",
       "      <th>39</th>\n",
       "      <td>Waste</td>\n",
       "      <td>1</td>\n",
       "      <td>0</td>\n",
       "      <td>[waste]</td>\n",
       "    </tr>\n",
       "    <tr>\n",
       "      <th>44</th>\n",
       "      <td>Dindigul</td>\n",
       "      <td>1</td>\n",
       "      <td>0</td>\n",
       "      <td>[dindigul]</td>\n",
       "    </tr>\n",
       "    <tr>\n",
       "      <th>51</th>\n",
       "      <td>good</td>\n",
       "      <td>1</td>\n",
       "      <td>0</td>\n",
       "      <td>[good]</td>\n",
       "    </tr>\n",
       "  </tbody>\n",
       "</table>\n",
       "</div>"
      ],
      "text/plain": [
       "            content  score  new_score new_content\n",
       "19  Do not download      1          0  [download]\n",
       "38       Yes i what      1          0       [yes]\n",
       "39            Waste      1          0     [waste]\n",
       "44         Dindigul      1          0  [dindigul]\n",
       "51             good      1          0      [good]"
      ]
     },
     "execution_count": 38,
     "metadata": {},
     "output_type": "execute_result"
    }
   ],
   "source": [
    "reviews_data[reviews_data['new_content'].map(lambda x: len(x)) < 2].head()"
   ]
  },
  {
   "cell_type": "code",
   "execution_count": 39,
   "id": "c6e1eb45",
   "metadata": {},
   "outputs": [],
   "source": [
    "reviews_data = reviews_data[reviews_data['new_content'].map(lambda x: len(x)) > 1]"
   ]
  },
  {
   "cell_type": "markdown",
   "id": "063e26c8",
   "metadata": {},
   "source": [
    "### 8. Removing 'NON-ALPHABETIC' words"
   ]
  },
  {
   "cell_type": "code",
   "execution_count": 40,
   "id": "01ddf3a7",
   "metadata": {},
   "outputs": [],
   "source": [
    "reviews_data['new_content'] = reviews_data['new_content'].apply(lambda x: [word for word in x if word.isalpha()])"
   ]
  },
  {
   "cell_type": "code",
   "execution_count": 41,
   "id": "6c074008",
   "metadata": {},
   "outputs": [],
   "source": [
    "reviews_data = reviews_data[reviews_data['new_content'].map(lambda x: len(x)) > 1] # Repeating STEP 7"
   ]
  },
  {
   "cell_type": "markdown",
   "id": "c2769d39",
   "metadata": {},
   "source": [
    "### 9. Lemmatization"
   ]
  },
  {
   "cell_type": "code",
   "execution_count": 42,
   "id": "923369ab",
   "metadata": {},
   "outputs": [
    {
     "name": "stderr",
     "output_type": "stream",
     "text": [
      "[nltk_data] Downloading package wordnet to\n",
      "[nltk_data]     /Users/macbookpro/nltk_data...\n",
      "[nltk_data]   Unzipping corpora/wordnet.zip.\n"
     ]
    },
    {
     "data": {
      "text/plain": [
       "True"
      ]
     },
     "execution_count": 42,
     "metadata": {},
     "output_type": "execute_result"
    }
   ],
   "source": [
    "from nltk.stem import WordNetLemmatizer\n",
    "nltk.download('wordnet')"
   ]
  },
  {
   "cell_type": "code",
   "execution_count": 43,
   "id": "d168a0c6",
   "metadata": {},
   "outputs": [],
   "source": [
    "reviews_data['new_content'] = reviews_data['new_content'].apply(lambda x: [WordNetLemmatizer().lemmatize(word) for word in x])"
   ]
  },
  {
   "cell_type": "markdown",
   "id": "e8ed864a",
   "metadata": {},
   "source": [
    "### 10. TF-IDF"
   ]
  },
  {
   "cell_type": "code",
   "execution_count": 44,
   "id": "c82fcfd5",
   "metadata": {},
   "outputs": [],
   "source": [
    "from sklearn.feature_extraction.text import TfidfVectorizer"
   ]
  },
  {
   "cell_type": "code",
   "execution_count": 45,
   "id": "a9ac2837",
   "metadata": {},
   "outputs": [],
   "source": [
    "Tfidf_vect = TfidfVectorizer()\n",
    "Train_content_tfidf = Tfidf_vect.fit_transform(reviews_data['new_content'].astype(str))"
   ]
  },
  {
   "cell_type": "code",
   "execution_count": 46,
   "id": "6e53238a",
   "metadata": {},
   "outputs": [],
   "source": [
    "# Tfidf_vect.vocabulary_ # To check vocabulary"
   ]
  },
  {
   "cell_type": "code",
   "execution_count": 47,
   "id": "0222eea6",
   "metadata": {},
   "outputs": [
    {
     "name": "stdout",
     "output_type": "stream",
     "text": [
      "  (0, 423)\t0.7442205089144512\n",
      "  (0, 460)\t0.22669775392938943\n",
      "  (0, 5749)\t0.6282865289614965\n",
      "  (1, 7038)\t0.5098928283032067\n",
      "  (1, 5539)\t0.48817466469248405\n",
      "  (1, 5319)\t0.28209699450293924\n",
      "  (1, 6873)\t0.3889691746394387\n",
      "  (1, 840)\t0.5098928283032067\n",
      "  (1, 460)\t0.1040594585562335\n",
      "  (2, 3054)\t0.1552816138599539\n",
      "  (2, 4790)\t0.12551833684747368\n",
      "  (2, 5164)\t0.19362861790089347\n",
      "  (2, 9063)\t0.10762325941713373\n",
      "  (2, 9326)\t0.22763212874017583\n",
      "  (2, 446)\t0.34090539177314033\n",
      "  (2, 2466)\t0.20456173739616854\n",
      "  (2, 889)\t0.2949842500593587\n",
      "  (2, 9539)\t0.14871600765019707\n",
      "  (2, 6041)\t0.21987487712519135\n",
      "  (2, 7285)\t0.3084571742554576\n",
      "  (2, 4204)\t0.32654682678273134\n",
      "  (2, 499)\t0.32654682678273134\n",
      "  (2, 9158)\t0.25409316057974035\n",
      "  (2, 6369)\t0.2747219908829051\n",
      "  (2, 1780)\t0.2839110452767498\n",
      "  (2, 460)\t0.12103712784129549\n"
     ]
    }
   ],
   "source": [
    "print(Train_content_tfidf[:3])"
   ]
  },
  {
   "cell_type": "markdown",
   "id": "2c861f0c",
   "metadata": {},
   "source": [
    "### Training ML Models¶"
   ]
  },
  {
   "cell_type": "code",
   "execution_count": 48,
   "id": "83bc0737",
   "metadata": {},
   "outputs": [],
   "source": [
    "from sklearn.linear_model import LogisticRegression"
   ]
  },
  {
   "cell_type": "code",
   "execution_count": 49,
   "id": "90792de1",
   "metadata": {},
   "outputs": [],
   "source": [
    "from sklearn.tree import DecisionTreeClassifier"
   ]
  },
  {
   "cell_type": "code",
   "execution_count": 50,
   "id": "a466e722",
   "metadata": {},
   "outputs": [],
   "source": [
    "from sklearn.ensemble import RandomForestClassifier"
   ]
  },
  {
   "cell_type": "code",
   "execution_count": 51,
   "id": "ecca503c",
   "metadata": {},
   "outputs": [],
   "source": [
    "from sklearn.neighbors import KNeighborsClassifier"
   ]
  },
  {
   "cell_type": "code",
   "execution_count": 52,
   "id": "fad26e8b",
   "metadata": {},
   "outputs": [],
   "source": [
    "from sklearn.svm import SVC"
   ]
  },
  {
   "cell_type": "code",
   "execution_count": 53,
   "id": "9720d3d3",
   "metadata": {},
   "outputs": [],
   "source": [
    "from sklearn.model_selection import StratifiedKFold,cross_val_score"
   ]
  },
  {
   "cell_type": "code",
   "execution_count": 54,
   "id": "c7509dd3",
   "metadata": {},
   "outputs": [],
   "source": [
    "SKF = StratifiedKFold(n_splits=5, shuffle=True)"
   ]
  },
  {
   "cell_type": "code",
   "execution_count": 55,
   "id": "688a49b0",
   "metadata": {},
   "outputs": [
    {
     "name": "stdout",
     "output_type": "stream",
     "text": [
      " Accuracy of LogisticRegression  : 78.28%\n",
      " Accuracy of DecisionTreeClassifier  : 67.86%\n",
      " Accuracy of RandomForestClassifier  : 76.77%\n",
      " Accuracy of KNeighborsClassifier  : 72.52%\n",
      " Accuracy of SVC  : 78.72%\n"
     ]
    }
   ],
   "source": [
    "for model in [LogisticRegression(),DecisionTreeClassifier(),RandomForestClassifier(),KNeighborsClassifier(),SVC()]:\n",
    "  model_name = str(model).split('(',1)[0]\n",
    "  print(f' Accuracy of {model_name}  : {round(cross_val_score(model,Train_content_tfidf,reviews_data.new_score,cv=SKF,scoring=\"accuracy\").mean()*100,2)}%')"
   ]
  },
  {
   "cell_type": "code",
   "execution_count": null,
   "id": "b920572e",
   "metadata": {},
   "outputs": [],
   "source": []
  }
 ],
 "metadata": {
  "kernelspec": {
   "display_name": "Python 3",
   "language": "python",
   "name": "python3"
  },
  "language_info": {
   "codemirror_mode": {
    "name": "ipython",
    "version": 3
   },
   "file_extension": ".py",
   "mimetype": "text/x-python",
   "name": "python",
   "nbconvert_exporter": "python",
   "pygments_lexer": "ipython3",
   "version": "3.8.8"
  }
 },
 "nbformat": 4,
 "nbformat_minor": 5
}
